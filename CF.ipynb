{
 "cells": [
  {
   "cell_type": "markdown",
   "metadata": {},
   "source": [
    "## Part 2 Collaborative Filtering"
   ]
  },
  {
   "cell_type": "markdown",
   "metadata": {},
   "source": [
    "Time: ~10 h"
   ]
  },
  {
   "cell_type": "markdown",
   "metadata": {},
   "source": [
    "### Read Data"
   ]
  },
  {
   "cell_type": "code",
   "execution_count": 2,
   "metadata": {},
   "outputs": [],
   "source": [
    "import pandas as pd"
   ]
  },
  {
   "cell_type": "code",
   "execution_count": 3,
   "metadata": {},
   "outputs": [
    {
     "name": "stdout",
     "output_type": "stream",
     "text": [
      "22362 12100\n"
     ]
    }
   ],
   "source": [
    "ratings = pd.read_csv('ratings.csv', \\\n",
    "                      usecols = ['user_id', 'item_id', 'user_emb_id', \\\n",
    "                                 'item_emb_id', 'score'])\n",
    "\n",
    "max_user = ratings['user_id'].drop_duplicates().max()\n",
    "max_item = ratings['item_id'].drop_duplicates().max()\n",
    "print(max_user, max_item)"
   ]
  },
  {
   "cell_type": "code",
   "execution_count": 4,
   "metadata": {},
   "outputs": [
    {
     "data": {
      "text/html": [
       "<div>\n",
       "<style scoped>\n",
       "    .dataframe tbody tr th:only-of-type {\n",
       "        vertical-align: middle;\n",
       "    }\n",
       "\n",
       "    .dataframe tbody tr th {\n",
       "        vertical-align: top;\n",
       "    }\n",
       "\n",
       "    .dataframe thead th {\n",
       "        text-align: right;\n",
       "    }\n",
       "</style>\n",
       "<table border=\"1\" class=\"dataframe\">\n",
       "  <thead>\n",
       "    <tr style=\"text-align: right;\">\n",
       "      <th></th>\n",
       "      <th>user_id</th>\n",
       "      <th>item_id</th>\n",
       "      <th>score</th>\n",
       "      <th>user_emb_id</th>\n",
       "      <th>item_emb_id</th>\n",
       "    </tr>\n",
       "  </thead>\n",
       "  <tbody>\n",
       "    <tr>\n",
       "      <th>147107</th>\n",
       "      <td>16554</td>\n",
       "      <td>9529</td>\n",
       "      <td>5.0</td>\n",
       "      <td>16554</td>\n",
       "      <td>9529</td>\n",
       "    </tr>\n",
       "    <tr>\n",
       "      <th>21032</th>\n",
       "      <td>9066</td>\n",
       "      <td>1389</td>\n",
       "      <td>3.0</td>\n",
       "      <td>9066</td>\n",
       "      <td>1389</td>\n",
       "    </tr>\n",
       "    <tr>\n",
       "      <th>32995</th>\n",
       "      <td>11344</td>\n",
       "      <td>2267</td>\n",
       "      <td>5.0</td>\n",
       "      <td>11344</td>\n",
       "      <td>2267</td>\n",
       "    </tr>\n",
       "    <tr>\n",
       "      <th>112359</th>\n",
       "      <td>2596</td>\n",
       "      <td>7520</td>\n",
       "      <td>5.0</td>\n",
       "      <td>2596</td>\n",
       "      <td>7520</td>\n",
       "    </tr>\n",
       "    <tr>\n",
       "      <th>76845</th>\n",
       "      <td>12852</td>\n",
       "      <td>5191</td>\n",
       "      <td>4.0</td>\n",
       "      <td>12852</td>\n",
       "      <td>5191</td>\n",
       "    </tr>\n",
       "  </tbody>\n",
       "</table>\n",
       "</div>"
      ],
      "text/plain": [
       "        user_id  item_id  score  user_emb_id  item_emb_id\n",
       "147107    16554     9529    5.0        16554         9529\n",
       "21032      9066     1389    3.0         9066         1389\n",
       "32995     11344     2267    5.0        11344         2267\n",
       "112359     2596     7520    5.0         2596         7520\n",
       "76845     12852     5191    4.0        12852         5191"
      ]
     },
     "execution_count": 4,
     "metadata": {},
     "output_type": "execute_result"
    }
   ],
   "source": [
    "from sklearn.model_selection import train_test_split\n",
    "train, test = train_test_split(ratings, test_size=0.2)\n",
    "train.head()"
   ]
  },
  {
   "cell_type": "markdown",
   "metadata": {},
   "source": [
    "### Setup Model"
   ]
  },
  {
   "cell_type": "code",
   "execution_count": 6,
   "metadata": {},
   "outputs": [],
   "source": [
    "import numpy as np\n",
    "import keras\n",
    "from keras.layers import Input, Embedding, merge, Dot, Dropout, Dense, Flatten\n",
    "from keras.models import Sequential"
   ]
  },
  {
   "cell_type": "code",
   "execution_count": 7,
   "metadata": {},
   "outputs": [],
   "source": [
    "def Cf_dot_model(max_user, max_item, emb_size=50, dropout_rate = 0.2):\n",
    "    # user part\n",
    "    user_input = Input(shape=[1],name='user')\n",
    "    user_emb = Embedding(max_user+1, emb_size, name='User_embedding')(user_input)\n",
    "    user_vec = Flatten(name='FlattenUserEmbedding')(user_emb)\n",
    "\n",
    "    \n",
    "    # item part\n",
    "    item_input = Input(shape=[1],name='item')\n",
    "    item_emb = Embedding(max_item+1, emb_size, name='Item_embedding')(item_input)\n",
    "    item_vec = Flatten(name='FlattenItemEmbedding')(item_emb)\n",
    "    \n",
    "    # dot merge\n",
    "    merge = Dot(axes = 1)([user_vec, item_vec])\n",
    "    \n",
    "    # deep model\n",
    "    full_connect = Dense(emb_size, activation = 'relu')(merge)\n",
    "    drop_1 = Dropout(dropout_rate)(full_connect)\n",
    "#     dense_1 = Dense(16, activation = 'relu')(drop_1)\n",
    "#     drop_2 = Dropout(dropout_rate)(dense_1)\n",
    "    result = Dense(1, activation = 'linear')(drop_1)\n",
    "    \n",
    "    return keras.Model([user_input, item_input], result)"
   ]
  },
  {
   "cell_type": "code",
   "execution_count": 19,
   "metadata": {},
   "outputs": [],
   "source": [
    "cfmodel = Cf_dot_model(max_user, max_item)"
   ]
  },
  {
   "cell_type": "code",
   "execution_count": 20,
   "metadata": {
    "scrolled": true
   },
   "outputs": [
    {
     "name": "stdout",
     "output_type": "stream",
     "text": [
      "__________________________________________________________________________________________________\n",
      "Layer (type)                    Output Shape         Param #     Connected to                     \n",
      "==================================================================================================\n",
      "user (InputLayer)               (None, 1)            0                                            \n",
      "__________________________________________________________________________________________________\n",
      "item (InputLayer)               (None, 1)            0                                            \n",
      "__________________________________________________________________________________________________\n",
      "User_embedding (Embedding)      (None, 1, 50)        1118150     user[0][0]                       \n",
      "__________________________________________________________________________________________________\n",
      "Item_embedding (Embedding)      (None, 1, 50)        605050      item[0][0]                       \n",
      "__________________________________________________________________________________________________\n",
      "FlattenUserEmbedding (Flatten)  (None, 50)           0           User_embedding[0][0]             \n",
      "__________________________________________________________________________________________________\n",
      "FlattenItemEmbedding (Flatten)  (None, 50)           0           Item_embedding[0][0]             \n",
      "__________________________________________________________________________________________________\n",
      "dot_6 (Dot)                     (None, 1)            0           FlattenUserEmbedding[0][0]       \n",
      "                                                                 FlattenItemEmbedding[0][0]       \n",
      "__________________________________________________________________________________________________\n",
      "dense_16 (Dense)                (None, 50)           100         dot_6[0][0]                      \n",
      "__________________________________________________________________________________________________\n",
      "dropout_11 (Dropout)            (None, 50)           0           dense_16[0][0]                   \n",
      "__________________________________________________________________________________________________\n",
      "dense_17 (Dense)                (None, 1)            51          dropout_11[0][0]                 \n",
      "==================================================================================================\n",
      "Total params: 1,723,351\n",
      "Trainable params: 1,723,351\n",
      "Non-trainable params: 0\n",
      "__________________________________________________________________________________________________\n"
     ]
    }
   ],
   "source": [
    "cfmodel.summary()"
   ]
  },
  {
   "cell_type": "markdown",
   "metadata": {},
   "source": [
    "### Parameters Tuning on Embedding_Size"
   ]
  },
  {
   "cell_type": "code",
   "execution_count": 21,
   "metadata": {},
   "outputs": [],
   "source": [
    "history = {}\n",
    "for emb in [50, 100, 150]:\n",
    "    cfmodel = Cf_dot_model(max_user, max_item, emb)\n",
    "    cfmodel.compile(optimizer='adam',loss= 'mean_absolute_error')\n",
    "    history[emb] = cfmodel.fit([train.user_id, train.item_id], train.score, \n",
    "                               epochs = 3, validation_split = 0.2, verbose =0)"
   ]
  },
  {
   "cell_type": "code",
   "execution_count": 23,
   "metadata": {
    "scrolled": false
   },
   "outputs": [
    {
     "data": {
      "image/png": "[encoded data removed]",
      "text/plain": [
       "<Figure size 432x432 with 1 Axes>"
      ]
     },
     "metadata": {},
     "output_type": "display_data"
    }
   ],
   "source": [
    "import matplotlib.pyplot as plt\n",
    "\n",
    "plt.figure(figsize=(6,6))\n",
    "color = ['blue','red','green']\n",
    "i = 0\n",
    "for key in history:\n",
    "    history_dict = history[key].history\n",
    "    loss_values = history_dict['loss']\n",
    "    val_loss_values = history_dict['val_loss']\n",
    "    epochs = range(1, 4)\n",
    "    plt.plot(epochs, loss_values, 'bo', label='Training loss_'+str(key), color = color[i])\n",
    "    plt.plot(epochs, val_loss_values, 'b', label='Validation loss_'+str(key), color = color[i])\n",
    "    i += 1\n",
    "\n",
    "plt.title('Training and validation loss')\n",
    "plt.xlabel('Epochs')\n",
    "plt.ylabel('Loss')\n",
    "plt.legend()\n",
    "\n",
    "plt.show()"
   ]
  },
  {
   "cell_type": "markdown",
   "metadata": {},
   "source": [
    "This is a very basic model, and from the result above we can see the emb_size = 150 is the best embedding size. Besides, the appropiate epochs should be around 2. "
   ]
  },
  {
   "cell_type": "markdown",
   "metadata": {},
   "source": [
    "### Train the final model"
   ]
  },
  {
   "cell_type": "code",
   "execution_count": 8,
   "metadata": {},
   "outputs": [],
   "source": [
    "final_model = Cf_dot_model(max_user, max_item, emb_size=150)\n",
    "final_model.compile(optimizer='adam',loss= 'mean_absolute_error')\n",
    "check = final_model.fit([train.user_id, train.item_id], train.score, \n",
    "            epochs = 3, validation_split = 0.2, verbose =0)"
   ]
  },
  {
   "cell_type": "code",
   "execution_count": 9,
   "metadata": {},
   "outputs": [
    {
     "name": "stdout",
     "output_type": "stream",
     "text": [
      "mean absolute error in test set is 0.816255\n"
     ]
    }
   ],
   "source": [
    "from sklearn.metrics import mean_absolute_error\n",
    "error = mean_absolute_error(test.score, final_model.predict([test.user_id, test.item_id]))\n",
    "print('mean absolute error in test set is %f' %error)"
   ]
  },
  {
   "cell_type": "code",
   "execution_count": 10,
   "metadata": {},
   "outputs": [],
   "source": [
    "# save final model\n",
    "from keras.models import load_model\n",
    "final_model.save('final_model.h5')"
   ]
  },
  {
   "cell_type": "code",
   "execution_count": null,
   "metadata": {},
   "outputs": [],
   "source": []
  }
 ],
 "metadata": {
  "kernelspec": {
   "display_name": "Python 3",
   "language": "python",
   "name": "python3"
  },
  "language_info": {
   "codemirror_mode": {
    "name": "ipython",
    "version": 3
   },
   "file_extension": ".py",
   "mimetype": "text/x-python",
   "name": "python",
   "nbconvert_exporter": "python",
   "pygments_lexer": "ipython3",
   "version": "3.6.8"
  }
 },
 "nbformat": 4,
 "nbformat_minor": 2
}
